{
 "cells": [
  {
   "cell_type": "markdown",
   "id": "57ddc85c",
   "metadata": {},
   "source": [
    "# **Итоговое задание.**\n",
    "\n",
    "\n",
    "\n",
    "## f(x) = -12x^4*sin(cos(x)) - 18x^3+5x^2 + 10x - 30\n",
    "\n",
    "### 1. Определить корни\n",
    "\n",
    "### 2. Найти интервалы, на которых функция возрастает\n",
    "\n",
    "### 3. Найти интервалы, на которых функция убывает\n",
    "\n",
    "### 4. Построить график\n",
    "\n",
    "### 5. Вычислить вершину(ы)\n",
    "\n",
    "### 6. Определить промежутки, на котором f > 0\n",
    "\n",
    "### 7. Определить промежутки, на котором f < 0\n"
   ]
  },
  {
   "cell_type": "code",
   "execution_count": 13,
   "id": "a41fef19",
   "metadata": {},
   "outputs": [],
   "source": [
    "from sympy import *\n",
    "import sympy as sm\n",
    "from sympy.plotting import plot\n",
    "sm.init_printing()"
   ]
  },
  {
   "cell_type": "markdown",
   "id": "4eeed526",
   "metadata": {},
   "source": [
    "## Для начала сделаем визуализацию графика функций"
   ]
  },
  {
   "cell_type": "code",
   "execution_count": 14,
   "id": "efb725bd",
   "metadata": {},
   "outputs": [
    {
     "data": {
      "image/png": "[encoded data removed]",
      "text/latex": [
       "$\\displaystyle - 12 x^{4} \\sin{\\left(\\cos{\\left(x \\right)} \\right)} - 18 x^{3} + 5 x^{2} + 10 x - 30$"
      ],
      "text/plain": [
       "      4                   3      2            \n",
       "- 12⋅x ⋅sin(cos(x)) - 18⋅x  + 5⋅x  + 10⋅x - 30"
      ]
     },
     "execution_count": 14,
     "metadata": {},
     "output_type": "execute_result"
    }
   ],
   "source": [
    "x = sm.Symbol('x')\n",
    "f = -12*x**4*sin(cos(x))-18*x**3+5*x**2+10*x-30\n",
    "f   "
   ]
  },
  {
   "cell_type": "code",
   "execution_count": 15,
   "id": "2ce22632",
   "metadata": {
    "scrolled": true
   },
   "outputs": [
    {
     "data": {
      "image/png": "[encoded data removed]",
      "text/plain": [
       "<Figure size 432x288 with 1 Axes>"
      ]
     },
     "metadata": {
      "needs_background": "light"
     },
     "output_type": "display_data"
    },
    {
     "data": {
      "text/plain": [
       "<sympy.plotting.plot.Plot at 0x7f7496109780>"
      ]
     },
     "execution_count": 15,
     "metadata": {},
     "output_type": "execute_result"
    }
   ],
   "source": [
    "plot(f,line_color='red', title='Визуализация')"
   ]
  },
  {
   "cell_type": "markdown",
   "id": "4033818c",
   "metadata": {},
   "source": [
    "### Находим корни"
   ]
  },
  {
   "cell_type": "code",
   "execution_count": 7,
   "id": "04d3be26",
   "metadata": {},
   "outputs": [
    {
     "name": "stdout",
     "output_type": "stream",
     "text": [
      "Корни уравнения на интервале (-13, 13): [-11.1337690610358, -7.65062228513275, -5.02686592820621, -1.33896663927711, 2.27305684575625, 4.38352369796896, 8.03516413341352, 10.8606499895942]\n"
     ]
    }
   ],
   "source": [
    "#nsolve - возвращает ближайшее решение,чтобы определить периодичность, я построил график функции, \n",
    "#Для исследования возьмем лишь интервал от -13 до 13 по оси Х\n",
    "interval = (-13,13)\n",
    "dic = []\n",
    "for i in range(interval[0],interval[1]): \n",
    "    try:\n",
    "        d = sm.nsolve(f,x,i)     \n",
    "        if d not in dic:\n",
    "            dic.append(d)      \n",
    "    except:\n",
    "        pass\n",
    "dic.sort()\n",
    "#проверка выхода за границы интервала\n",
    "if dic[0] < interval[0]:\n",
    "    dic.pop(0)\n",
    "if dic[-1] > interval[1]:\n",
    "    dic.pop(-1)\n",
    "print(f\"Корни уравнения на интервале {interval}: {dic}\")"
   ]
  },
  {
   "cell_type": "markdown",
   "id": "26df6659",
   "metadata": {},
   "source": [
    "## В начал неоходимо выяснить  точки  max и min. Для этого нам потребуется найти производную f'(x) от функции f(x) и приравнять ее к 0. Точки экстремумы являются вершинами нашей функции."
   ]
  },
  {
   "cell_type": "code",
   "execution_count": 16,
   "id": "e0922a4e",
   "metadata": {},
   "outputs": [
    {
     "name": "stdout",
     "output_type": "stream",
     "text": [
      "Производная функции: 12*x**4*sin(x)*cos(cos(x)) - 48*x**3*sin(cos(x)) - 54*x**2 + 10*x + 10\n",
      "Вершины функции (экстремумы) на интервале (-13, 13): [-12.9438052089824, -9.97895376101509, -6.83137004000085, -4.16778352385048, -0.392677179932750, 0.454573568108782, 1.70060727795121, 3.81931083338228, 7.00103165854095, 9.87714905397232, 13.0123448285001]\n"
     ]
    }
   ],
   "source": [
    "deriv_f = sm.diff(f,x)\n",
    "print(f\"Производная функции: {deriv_f}\")\n",
    "dic_deriv_f = []\n",
    "for i in range(interval[0],interval[1]):\n",
    "    try:\n",
    "        d = sm.nsolve(deriv_f,x,i)\n",
    "        if d not in dic_deriv_f:\n",
    "            dic_deriv_f.append(d)      \n",
    "    except:\n",
    "        pass\n",
    "dic_deriv_f.sort()\n",
    "print(f\"Вершины функции (экстремумы) на интервале {interval}: {dic_deriv_f}\")\n",
    "#Добавляем начало и конец интевала в список решений\n",
    "dic_deriv_f.insert(0,interval[0])\n",
    "dic_deriv_f.append(interval[1])"
   ]
  },
  {
   "cell_type": "markdown",
   "id": "c13e3689",
   "metadata": {},
   "source": [
    "## Вычислим интервалы, на которых функция возрастает"
   ]
  },
  {
   "cell_type": "code",
   "execution_count": 17,
   "id": "e0d5a619",
   "metadata": {},
   "outputs": [
    {
     "name": "stdout",
     "output_type": "stream",
     "text": [
      "В диапазоне (-13, 13) функция возрастает на интервалах: [(-12.9438052089824, -9.97895376101509), (-6.83137004000085, -4.16778352385048), (-0.392677179932750, 0.454573568108782), (1.70060727795121, 3.81931083338228), (7.00103165854095, 9.87714905397232)] \n"
     ]
    }
   ],
   "source": [
    "f_increasing = []\n",
    "for i in range(len(dic_deriv_f)-1):\n",
    "    if (deriv_f.subs(x,((dic_deriv_f[i+1] + dic_deriv_f[i])/2))) > 0:\n",
    "        f_increasing.append((dic_deriv_f[i],dic_deriv_f[i+1]))\n",
    "\n",
    "print(f\"В диапазоне {interval} функция возрастает на интервалах: {f_increasing} \")"
   ]
  },
  {
   "cell_type": "markdown",
   "id": "602ac533",
   "metadata": {},
   "source": [
    "## Вычислим интервалы, на которых функция убывает"
   ]
  },
  {
   "cell_type": "code",
   "execution_count": 18,
   "id": "a7c42719",
   "metadata": {},
   "outputs": [
    {
     "name": "stdout",
     "output_type": "stream",
     "text": [
      "В диапазоне (-13, 13) функция убывает на интервалах: [(-13, -12.9438052089824), (-9.97895376101509, -6.83137004000085), (-4.16778352385048, -0.392677179932750), (0.454573568108782, 1.70060727795121), (3.81931083338228, 7.00103165854095), (9.87714905397232, 13.0123448285001), (13.0123448285001, 13)] \n"
     ]
    }
   ],
   "source": [
    "f_decreasing = []\n",
    "for i in range(len(dic_deriv_f)-1):\n",
    "    if (deriv_f.subs(x,((dic_deriv_f[i+1] + dic_deriv_f[i])/2))) < 0:\n",
    "        f_decreasing.append((dic_deriv_f[i],dic_deriv_f[i+1]))\n",
    "\n",
    "print(f\"В диапазоне {interval} функция убывает на интервалах: {f_decreasing} \")"
   ]
  },
  {
   "cell_type": "markdown",
   "id": "1afdeefa",
   "metadata": {},
   "source": [
    "## Определим интервалы, на которых f(х) > 0"
   ]
  },
  {
   "cell_type": "code",
   "execution_count": 19,
   "id": "7ed08ca7",
   "metadata": {},
   "outputs": [
    {
     "name": "stdout",
     "output_type": "stream",
     "text": [
      "В диапазоне (-13, 13) функция больше нуля на промежутках: [(-11.1337690610358, -7.65062228513275), (-5.02686592820621, -1.33896663927711), (2.27305684575625, 4.38352369796896), (8.03516413341352, 10.8606499895942)] \n"
     ]
    }
   ],
   "source": [
    "value_interval = dic\n",
    "if value_interval[0] > interval[0]:\n",
    "    value_interval.insert(0,interval[0])\n",
    "if value_interval[-1] < interval[1]:\n",
    "    value_interval.append(interval[1])\n",
    "interval_up_zero = []\n",
    "\n",
    "for i in range(len(value_interval)-1):\n",
    "    if (f.subs(x,((value_interval[i+1] + value_interval[i])/2))) > 0:\n",
    "        interval_up_zero.append((value_interval[i],value_interval[i+1]))\n",
    "\n",
    "print(f\"В диапазоне {interval} функция больше нуля на промежутках: {interval_up_zero} \")"
   ]
  },
  {
   "cell_type": "markdown",
   "id": "0b1e2ff7",
   "metadata": {},
   "source": [
    "## Определим интервалы, на которых f(х) < 0"
   ]
  },
  {
   "cell_type": "code",
   "execution_count": 12,
   "id": "a84b2af6",
   "metadata": {},
   "outputs": [
    {
     "name": "stdout",
     "output_type": "stream",
     "text": [
      "В диапазоне (-13, 13) функция меньше нуля на промежутках: [(-13, -11.1337690610358), (-7.65062228513275, -5.02686592820621), (-1.33896663927711, 2.27305684575625), (4.38352369796896, 8.03516413341352), (10.8606499895942, 13)] \n"
     ]
    }
   ],
   "source": [
    "interval_low_zero = []\n",
    "for i in range(len(value_interval)-1):\n",
    "    if (f.subs(x,((value_interval[i+1] + value_interval[i])/2))) < 0:\n",
    "        interval_low_zero.append((value_interval[i],value_interval[i+1]))\n",
    "\n",
    "print(f\"В диапазоне {interval} функция меньше нуля на промежутках: {interval_low_zero} \")"
   ]
  },
  {
   "cell_type": "code",
   "execution_count": null,
   "id": "8e9ea1fc",
   "metadata": {},
   "outputs": [],
   "source": []
  }
 ],
 "metadata": {
  "kernelspec": {
   "display_name": "Python 3 (ipykernel)",
   "language": "python",
   "name": "python3"
  },
  "language_info": {
   "codemirror_mode": {
    "name": "ipython",
    "version": 3
   },
   "file_extension": ".py",
   "mimetype": "text/x-python",
   "name": "python",
   "nbconvert_exporter": "python",
   "pygments_lexer": "ipython3",
   "version": "3.10.6"
  }
 },
 "nbformat": 4,
 "nbformat_minor": 5
}
